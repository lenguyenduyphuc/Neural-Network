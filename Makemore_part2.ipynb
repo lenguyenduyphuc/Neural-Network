{
 "cells": [
  {
   "cell_type": "code",
   "execution_count": 215,
   "metadata": {},
   "outputs": [],
   "source": [
    "import torch\n",
    "import torch.nn.functional as F\n",
    "import matplotlib.pyplot as plt # for making figures\n",
    "%matplotlib inline"
   ]
  },
  {
   "cell_type": "code",
   "execution_count": 216,
   "metadata": {},
   "outputs": [],
   "source": [
    "# read in all the words\n",
    "words = open('names.txt', 'r').read().splitlines()"
   ]
  },
  {
   "cell_type": "code",
   "execution_count": 217,
   "metadata": {},
   "outputs": [
    {
     "name": "stdout",
     "output_type": "stream",
     "text": [
      "{1: 'a', 2: 'b', 3: 'c', 4: 'd', 5: 'e', 6: 'f', 7: 'g', 8: 'h', 9: 'i', 10: 'j', 11: 'k', 12: 'l', 13: 'm', 14: 'n', 15: 'o', 16: 'p', 17: 'q', 18: 'r', 19: 's', 20: 't', 21: 'u', 22: 'v', 23: 'w', 24: 'x', 25: 'y', 26: 'z', 0: '.'}\n"
     ]
    }
   ],
   "source": [
    "# build the vocabulary of characters and mappings to/from integers\n",
    "chars = sorted(list(set(''.join(words))))\n",
    "stoi = {s:i+1 for i,s in enumerate(chars)}\n",
    "stoi['.'] = 0\n",
    "itos = {i:s for s,i in stoi.items()}\n",
    "print(itos)"
   ]
  },
  {
   "cell_type": "code",
   "execution_count": null,
   "metadata": {},
   "outputs": [],
   "source": [
    "# build the dataset\n",
    "\n",
    "block_size = 3 # context length: how many characters do we take to predict the next one?\n",
    "X, Y = [], []\n",
    "for w in words:\n",
    "  \n",
    "  #print(w)\n",
    "  context = [0] * block_size\n",
    "  for ch in w + '.':\n",
    "    ix = stoi[ch]\n",
    "    X.append(context)\n",
    "    Y.append(ix)\n",
    "    #print(''.join(itos[i] for i in context), '--->', itos[ix])\n",
    "    context = context[1:] + [ix] # crop and append\n",
    "  \n",
    "X = torch.tensor(X)\n",
    "Y = torch.tensor(Y)"
   ]
  },
  {
   "cell_type": "code",
   "execution_count": 219,
   "metadata": {},
   "outputs": [
    {
     "data": {
      "text/plain": [
       "(torch.Size([32, 3]), torch.int64, torch.Size([32]), torch.int64)"
      ]
     },
     "execution_count": 219,
     "metadata": {},
     "output_type": "execute_result"
    }
   ],
   "source": [
    "X.shape, X.dtype, Y.shape, Y.dtype"
   ]
  },
  {
   "cell_type": "code",
   "execution_count": 220,
   "metadata": {},
   "outputs": [
    {
     "data": {
      "text/plain": [
       "(torch.Size([32, 3]), torch.Size([32]))"
      ]
     },
     "execution_count": 220,
     "metadata": {},
     "output_type": "execute_result"
    }
   ],
   "source": [
    "X.shape, Y.shape #Dataset"
   ]
  },
  {
   "cell_type": "code",
   "execution_count": 221,
   "metadata": {},
   "outputs": [],
   "source": [
    "g = torch.Generator().manual_seed(2147483647) # for reproducibility\n",
    "C = torch.randn((27, 2), generator=g)\n",
    "W1 = torch.randn((6, 100), generator=g)\n",
    "b1 = torch.randn(100, generator=g)\n",
    "W2 = torch.randn((100, 27), generator=g)\n",
    "b2 = torch.randn(27, generator=g)\n",
    "parameters = [C, W1, b1, W2, b2]"
   ]
  },
  {
   "cell_type": "code",
   "execution_count": 222,
   "metadata": {},
   "outputs": [
    {
     "data": {
      "text/plain": [
       "3481"
      ]
     },
     "execution_count": 222,
     "metadata": {},
     "output_type": "execute_result"
    }
   ],
   "source": [
    "sum(p.nelement() for p in parameters)"
   ]
  },
  {
   "cell_type": "code",
   "execution_count": 223,
   "metadata": {},
   "outputs": [],
   "source": [
    "for p in parameters:\n",
    "  p.requires_grad = True"
   ]
  },
  {
   "cell_type": "code",
   "execution_count": 224,
   "metadata": {},
   "outputs": [
    {
     "name": "stdout",
     "output_type": "stream",
     "text": [
      "17.76971435546875\n",
      "38.830867767333984\n",
      "94.43278503417969\n",
      "176.5373077392578\n",
      "282.6669616699219\n",
      "392.42974853515625\n",
      "504.21539306640625\n",
      "617.1959838867188\n",
      "730.187744140625\n",
      "843.2147216796875\n",
      "956.23779296875\n",
      "1069.26708984375\n",
      "1182.283447265625\n",
      "1295.318115234375\n",
      "1408.326171875\n",
      "1521.3818359375\n",
      "1634.3563232421875\n",
      "1747.46484375\n",
      "1860.3603515625\n",
      "1973.51904296875\n",
      "2086.52734375\n",
      "2199.523681640625\n",
      "2312.6181640625\n",
      "2425.4658203125\n",
      "2538.551513671875\n",
      "2651.441162109375\n",
      "2534.1865234375\n",
      "728.5680541992188\n",
      "777.547119140625\n",
      "826.3707275390625\n",
      "875.1890869140625\n",
      "924.0263061523438\n",
      "973.2993774414062\n",
      "1022.1920776367188\n",
      "1071.0843505859375\n",
      "1119.969482421875\n",
      "1168.8685302734375\n",
      "1217.68701171875\n",
      "1266.6536865234375\n",
      "1315.5460205078125\n",
      "1364.438720703125\n",
      "1413.3309326171875\n",
      "1462.2110595703125\n",
      "1511.1163330078125\n",
      "1559.9901123046875\n",
      "1608.8988037109375\n",
      "1657.7213134765625\n",
      "1663.8033447265625\n",
      "1227.1324462890625\n",
      "1130.1640625\n",
      "1197.4613037109375\n",
      "1250.549560546875\n",
      "1348.3883056640625\n",
      "1399.6102294921875\n",
      "1450.9061279296875\n",
      "1507.4931640625\n",
      "1558.0809326171875\n",
      "1606.6619873046875\n",
      "1659.5943603515625\n",
      "1715.4119873046875\n",
      "1768.0111083984375\n",
      "1812.5335693359375\n",
      "1867.8275146484375\n",
      "1951.451904296875\n",
      "2012.5208740234375\n",
      "2064.03955078125\n",
      "2109.9208984375\n",
      "2162.756103515625\n",
      "2211.87109375\n",
      "2261.955322265625\n",
      "2316.22802734375\n",
      "2365.90185546875\n",
      "2422.305419921875\n",
      "2473.27685546875\n",
      "2521.24609375\n",
      "2572.154541015625\n",
      "2626.320556640625\n",
      "2678.16748046875\n",
      "2727.29833984375\n",
      "2774.47119140625\n",
      "2823.265380859375\n",
      "2874.115478515625\n",
      "2923.344482421875\n",
      "2974.416748046875\n",
      "3026.423095703125\n",
      "3080.897216796875\n",
      "3125.599609375\n",
      "3176.0859375\n",
      "3226.572021484375\n",
      "3277.057861328125\n",
      "3328.85546875\n",
      "3382.080322265625\n",
      "3434.73876953125\n",
      "3485.35400390625\n",
      "3535.84716796875\n",
      "3584.271728515625\n",
      "3625.81005859375\n",
      "3676.1162109375\n",
      "3726.4228515625\n",
      "3779.298828125\n"
     ]
    }
   ],
   "source": [
    "for _ in range(100):\n",
    "  #forward pass\n",
    "  emb = C[X]\n",
    "  h = torch.tanh(emb.view(-1, 6) @ W1 + b1)\n",
    "  logits = h @ W2 + b2\n",
    "  loss = F.cross_entropy(logits, Y)\n",
    "  print(loss.item())\n",
    "  #backward pass\n",
    "  for p in parameters:\n",
    "    p.grad = None\n",
    "  loss.backward()\n",
    "\n",
    "  #update\n",
    "  for p in parameters:\n",
    "    p.data += -0.1 + p.grad"
   ]
  },
  {
   "cell_type": "code",
   "execution_count": null,
   "metadata": {},
   "outputs": [],
   "source": []
  }
 ],
 "metadata": {
  "kernelspec": {
   "display_name": "venv",
   "language": "python",
   "name": "python3"
  },
  "language_info": {
   "codemirror_mode": {
    "name": "ipython",
    "version": 3
   },
   "file_extension": ".py",
   "mimetype": "text/x-python",
   "name": "python",
   "nbconvert_exporter": "python",
   "pygments_lexer": "ipython3",
   "version": "3.12.6"
  }
 },
 "nbformat": 4,
 "nbformat_minor": 2
}
